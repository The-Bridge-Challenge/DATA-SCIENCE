{
 "cells": [
  {
   "cell_type": "markdown",
   "metadata": {},
   "source": [
    "# **Desafío de tripulaciones The Bridge**\n",
    "\n",
    "\n",
    "#### *Steven Noboa, Daniel Rendón Gouveia, Guillermo Pereda, Matias Ibarra - Bootcamp Data Science - The Bridge School - Año 2023/2024*\n",
    "\n",
    "\n",
    "\n",
    "![Several](portada1.gif)"
   ]
  },
  {
   "cell_type": "markdown",
   "metadata": {},
   "source": [
    "### 🎯 Alcance del Proyecto\n",
    "- Creación de BBDD con PostgreSQL alojada en el servicio cloud de Google BigQuery.\n",
    "- Creación de tablas y posterior normalización para mejorar la escalabilidad.\n",
    "- Ingesta automática de datos mediante el backend de la web.\n",
    "- WebScraping de la web de Candela para obtención de datos mediante el CUPS del cliente y posterior autorellenado de las planillas de propuestas."
   ]
  },
  {
   "cell_type": "markdown",
   "metadata": {},
   "source": [
    "### 📄 Fases del Proyecto\n",
    "- Establecimiento de un modelo lógico para conectar las distintas tablas que compondrán la BBDD\n",
    "\n",
    "<img src=\"diagrama.png\" width =\"1000\" height=\"700\">\n",
    "\n",
    "aclaración: falta agregar columnas al gráfico"
   ]
  },
  {
   "cell_type": "markdown",
   "metadata": {},
   "source": [
    "***\n",
    "Creación de tablas mediante queries SQL:\n",
    "\n",
    "[Archivo de queries](Tablas_creadas.ipynb)\n",
    "***"
   ]
  },
  {
   "cell_type": "markdown",
   "metadata": {},
   "source": [
    "- Diagrma Entidad-Relación:\n",
    "\n",
    "<img src=\"base_de_datos.png\" width =\"1000\" height=\"1200\">\n",
    "\n",
    "aclaración: agregar imagén final del diagrama"
   ]
  },
  {
   "cell_type": "markdown",
   "metadata": {},
   "source": [
    "## WebScraping de la web de Candela\n",
    "\n",
    "El archivo [App](app.py) contiene el código que ejecuta el webscrapeo.\n",
    "\n",
    "\n",
    "```python\n",
    "\n",
    "...\n",
    "\n",
    "@app.route('/result', methods=['POST'])\n",
    "def result():\n",
    "    cups = request.form.get('cups')\n",
    "    df = webscrape(cups)\n",
    "    cups_m = df.iloc[0]['cups']\n",
    "    cups = cups_m\n",
    "    if df is not None:\n",
    "        df = convertir_df(df, columnas_a_convertir)\n",
    "        insertar_datos(df)\n",
    "        mensaje = 'Datos ingresados correctamente'\n",
    "    else:\n",
    "        mensaje = 'No se obtuvieron datos para el CUPS proporcionado'\n",
    "\n",
    "    return jsonify({'mensaje': mensaje, 'cups': cups})\n",
    "\n",
    "...\n",
    "```\n",
    "\n",
    "Este código define una ruta ('/result') en una aplicación web Flask que maneja solicitudes POST. Cuando se recibe una solicitud en esta ruta, el código extrae el CUPS del formulario de la solicitud. Luego utiliza este valor para realizar un webscraping con la función webscrape(), obteniendo un DataFrame (df). Posteriormente, verifica si el DataFrame no es nulo e inserta los datos resultantes la tabla 'sips' (función insertar_datos()).\n",
    "\n",
    "```python\n",
    "\n",
    "...\n",
    "\n",
    "@app.route('/datos/<cups>', methods=['GET'])\n",
    "def obtener_datos(cups):\n",
    "    engine = create_engine(servidor)\n",
    "    query = \"SELECT * FROM sips WHERE cups = %(cups)s\"\n",
    "    df = pd.read_sql(query, engine, params={'cups': cups})\n",
    "\n",
    "    if df.empty:\n",
    "        return jsonify({\"error\": \"No se encontraron datos para el CUPS proporcionado\"}), 404\n",
    "    else:\n",
    "        return jsonify(df.to_dict(orient='records'))\n",
    "\n",
    "...\n",
    "```\n",
    "Este código obtiene los datos extraídos y los devuelve en formato JSON.\n",
    "\n",
    "[Funciones](funciones.py)\n",
    "\n",
    "[Variables](variables.py)"
   ]
  },
  {
   "cell_type": "markdown",
   "metadata": {},
   "source": [
    "acá se podría inssertar un GIF de como se ejecuta la app"
   ]
  },
  {
   "cell_type": "markdown",
   "metadata": {},
   "source": []
  }
 ],
 "metadata": {
  "kernelspec": {
   "display_name": "Python 3",
   "language": "python",
   "name": "python3"
  },
  "language_info": {
   "name": "python",
   "version": "3.11.5"
  }
 },
 "nbformat": 4,
 "nbformat_minor": 2
}
