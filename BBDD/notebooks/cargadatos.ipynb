{
 "cells": [
  {
   "cell_type": "code",
   "execution_count": null,
   "metadata": {},
   "outputs": [],
   "source": [
    "import psycopg2\n",
    "import numpy as np\n",
    "import pandas as pd\n",
    "import os\n",
    "import urllib.parse as up\n",
    "from sqlalchemy import create_engine\n",
    "import warnings\n",
    "warnings.filterwarnings('ignore')"
   ]
  },
  {
   "cell_type": "code",
   "execution_count": null,
   "metadata": {},
   "outputs": [],
   "source": [
    "conn = psycopg2.connect(database=\"postgres\",\n",
    "                    host=\"hostname\",\n",
    "                    user=\"postgres\",\n",
    "                    password=\"yourpassword\",\n",
    "                    port=\"5432\")\n",
    "crsr = conn.cursor()\n",
    "\n",
    "connect = \"postgresql://postgres:hostname@:yourpassword/postgres\"\n",
    "\n",
    "engine = create_engine(connect)"
   ]
  },
  {
   "cell_type": "code",
   "execution_count": null,
   "metadata": {},
   "outputs": [],
   "source": [
    "query = '''\n",
    "INSERT INTO usuario VALUES (1 ,'matias@gmail.com', 'ma12345', 'Asesor')\n",
    "'''\n",
    "crsr.execute(query)\n",
    "conn.commit()"
   ]
  },
  {
   "cell_type": "code",
   "execution_count": null,
   "metadata": {},
   "outputs": [],
   "source": [
    "query = '''\n",
    "INSERT INTO usuario VALUES (2, 'steven@gmail.com', 'st12345', 'Asesor')\n",
    "'''\n",
    "crsr.execute(query)\n",
    "conn.commit()"
   ]
  },
  {
   "cell_type": "code",
   "execution_count": null,
   "metadata": {},
   "outputs": [],
   "source": [
    "conn.close()"
   ]
  },
  {
   "cell_type": "code",
   "execution_count": null,
   "metadata": {},
   "outputs": [],
   "source": [
    "query = '''\n",
    "INSERT INTO usuario VALUES (5, 'guille@gmail.com', 'gui12345', 'Asesor', 'Madrid')\n",
    "'''\n",
    "crsr.execute(query)\n",
    "conn.commit()"
   ]
  },
  {
   "cell_type": "code",
   "execution_count": null,
   "metadata": {},
   "outputs": [],
   "source": [
    "query = '''\n",
    "INSERT INTO cliente VALUES ('31405', 1, 'dani', 'sucasa')\n",
    "'''\n",
    "crsr.execute(query)\n",
    "conn.commit()"
   ]
  },
  {
   "cell_type": "code",
   "execution_count": null,
   "metadata": {},
   "outputs": [],
   "source": [
    "query = '''\n",
    "INSERT INTO cliente VALUES ('31406', 1, 'steven', 'sucasa')\n",
    "'''\n",
    "crsr.execute(query)\n",
    "conn.commit()"
   ]
  },
  {
   "cell_type": "code",
   "execution_count": null,
   "metadata": {},
   "outputs": [],
   "source": [
    "query = '''\n",
    "SELECT * FROM cliente\n",
    "'''\n",
    "crsr.execute(query)\n",
    "cliente = crsr.fetchall()\n",
    "print(cliente)"
   ]
  },
  {
   "cell_type": "code",
   "execution_count": null,
   "metadata": {},
   "outputs": [],
   "source": [
    "query = '''\n",
    "INSERT INTO sips VALUES (1, '6.1', 1053543.1, 12.0, 133.0, 14.0, 15.0, 0, 0, 31405, 'Barcelona', 'Barcelona', 8014, 'Endesa')\n",
    "'''\n",
    "crsr.execute(query)\n",
    "conn.commit()"
   ]
  },
  {
   "cell_type": "code",
   "execution_count": null,
   "metadata": {},
   "outputs": [],
   "source": [
    "query = '''\n",
    "INSERT INTO factura VALUES (1, 31405, '10/01/2024', 1200, 30, 75.3, 12, 2.5, 4, -3.48)\n",
    "'''\n",
    "crsr.execute(query)\n",
    "conn.commit()"
   ]
  },
  {
   "cell_type": "code",
   "execution_count": null,
   "metadata": {},
   "outputs": [],
   "source": [
    "query = '''\n",
    "INSERT INTO consumo_energia VALUES (1, 1, 12, 13, 314, 15, 16, 17, 180, 35, 80, 980)\n",
    "'''\n",
    "crsr.execute(query)\n",
    "conn.commit()"
   ]
  },
  {
   "cell_type": "code",
   "execution_count": null,
   "metadata": {},
   "outputs": [],
   "source": [
    "query = '''\n",
    "INSERT INTO consumo_potencia VALUES (1, 1, 12, 13, 314, 15, 16, 17, 180, 35, 80, 980)\n",
    "'''\n",
    "crsr.execute(query)\n",
    "conn.commit()"
   ]
  },
  {
   "cell_type": "code",
   "execution_count": null,
   "metadata": {},
   "outputs": [],
   "source": [
    "query = '''\n",
    "INSERT INTO comercializadora VALUES ()\n",
    "\n",
    "'''\n",
    "crsr.execute(query)\n",
    "conn.commit()"
   ]
  },
  {
   "cell_type": "code",
   "execution_count": null,
   "metadata": {},
   "outputs": [],
   "source": [
    "query = '''\n",
    "SELECT * FROM comercializadora\n",
    "LIMIT 5\n",
    "'''\n",
    "crsr.execute(query)\n",
    "cliente = crsr.fetchall()\n",
    "cliente"
   ]
  },
  {
   "cell_type": "code",
   "execution_count": null,
   "metadata": {},
   "outputs": [],
   "source": [
    "crsr.execute(\"\"\"\n",
    "    UPDATE comercializadora\n",
    "    SET ID_Cia_indexado_energia = (SELECT ID_Precio_indexado_energia FROM precio_indexado_energia WHERE precio_indexado_energia.ID_Cia = comercializadora.ID_Cia)\n",
    "    WHERE EXISTS (SELECT 1 FROM precio_indexado_energia WHERE precio_indexado_energia.ID_Cia = comercializadora.ID_Cia);\n",
    "\"\"\")\n",
    "\n",
    "# Confirma los cambios\n",
    "conn.commit()\n",
    "\n",
    "# Cierra la conexión\n",
    "# conn.close()"
   ]
  },
  {
   "cell_type": "code",
   "execution_count": null,
   "metadata": {},
   "outputs": [],
   "source": [
    "df_index_e = pd.read_excel('./PRECIOSLUZ.xlsx', sheet_name='INDEXADO', header=3, usecols=\"B:L\")\n",
    "df_index_e"
   ]
  },
  {
   "cell_type": "code",
   "execution_count": null,
   "metadata": {},
   "outputs": [],
   "source": [
    "df_index_e.rename(columns={'MES':'mes','P5':'P5.', 'CIA':'cia'}, inplace=True)\n",
    "df_index_e"
   ]
  },
  {
   "cell_type": "code",
   "execution_count": null,
   "metadata": {},
   "outputs": [],
   "source": [
    "df_index_e.columns"
   ]
  },
  {
   "cell_type": "code",
   "execution_count": null,
   "metadata": {},
   "outputs": [],
   "source": [
    "df_index_e.rename(columns={'SISTEMA':'sistema','TARIFA':'tarifa',\n",
    "                           'FEE': 'fee',\n",
    "                           'P1.':'p1.',\n",
    "                           'P2.':'p2.',\n",
    "                           'P3.':'p3.',\n",
    "                           'P4.':'p4.',\n",
    "                           'P5.':'p5.',\n",
    "                           'P6.': 'p6.'}, inplace=True)\n",
    "df_index_e"
   ]
  },
  {
   "cell_type": "code",
   "execution_count": null,
   "metadata": {},
   "outputs": [],
   "source": [
    "df_index_e.rename(columns={\n",
    "    'p1.': 'p1_e',\n",
    "    'p2.': 'p2_e',\n",
    "    'p3.': 'p3_e',\n",
    "    'p4.': 'p4_e',\n",
    "    'p5.': 'p5_e',\n",
    "    'p6.': 'p6_e'\n",
    "}, inplace=True)\n",
    "df_index_e"
   ]
  },
  {
   "cell_type": "code",
   "execution_count": null,
   "metadata": {},
   "outputs": [],
   "source": [
    "df_index_p = pd.read_excel('./PRECIOSLUZ.xlsx', sheet_name='INDEXADO', usecols=\"N:X\", skiprows=3, nrows=376)\n",
    "df_index_p"
   ]
  },
  {
   "cell_type": "code",
   "execution_count": null,
   "metadata": {},
   "outputs": [],
   "source": [
    "df_index_p.columns = [col.replace('.', '').replace(' ', '_').lower() for col in df_index_p.columns]\n",
    "\n"
   ]
  },
  {
   "cell_type": "code",
   "execution_count": null,
   "metadata": {},
   "outputs": [],
   "source": [
    "df_index_p"
   ]
  },
  {
   "cell_type": "code",
   "execution_count": null,
   "metadata": {},
   "outputs": [],
   "source": [
    "df_index_p.rename(columns={'SISTEMA.1': 'Sistema',\n",
    "                           'CIA.1': 'CIA',\n",
    "                           'P5.1':'P5',\n",
    "                           'TARIFA.1':'Tarifa'}\n",
    "                  ,\n",
    "                  inplace=True)\n",
    "df_index_p\n",
    "\n",
    "df_index_p.rename(columns={'PRODUCTO CIA':'producto_cia',\n",
    "                           'PRODUCTO':'producto',\n",
    "                           'Sistema':'sistema',\n",
    "                           'PRODUCTO':'producto',\n",
    "                           'Tarifa':'tarifa',\n",
    "                           'P1': 'p1',\n",
    "                           'P2': 'p2',\n",
    "                           'P3': 'p3',\n",
    "                           'P4': 'p4',\n",
    "                           'P5': 'p5',\n",
    "                           'P6': 'p6'}, \n",
    "                  inplace=True)\n",
    "df_index_p"
   ]
  },
  {
   "cell_type": "code",
   "execution_count": null,
   "metadata": {},
   "outputs": [],
   "source": [
    "df_fijo = pd.read_excel('./PRECIOSLUZ.xlsx', sheet_name='FIJO', usecols=\"C:T\", skiprows=1)\n",
    "df_fijo.rename(columns={'producto cia':'producto_cia'}, inplace=True)"
   ]
  },
  {
   "cell_type": "code",
   "execution_count": null,
   "metadata": {},
   "outputs": [],
   "source": [
    "df_fijo.rename(columns={ 'P1': 'p1',\n",
    "                           'P2': 'p2',\n",
    "                           'P3': 'p3',\n",
    "                           'P4': 'p4',\n",
    "                           'P5': 'p5',\n",
    "                           'P6': 'p6',\n",
    "                           'P1.': 'p1.',\n",
    "                           'P2.': 'p2.',\n",
    "                           'P3.': 'p3.',\n",
    "                           'P4.': 'p4.',\n",
    "                           'P5.': 'p5.',\n",
    "                           'P6.': 'p6.'}, \n",
    "                  inplace=True)"
   ]
  },
  {
   "cell_type": "code",
   "execution_count": null,
   "metadata": {},
   "outputs": [],
   "source": [
    "df_fijo.rename(columns={\n",
    "    'p1.': 'p1_e',\n",
    "    'p2.': 'p2_e',\n",
    "    'p3.': 'p3_e',\n",
    "    'p4.': 'p4_e',\n",
    "    'p5.': 'p5_e',\n",
    "    'p6.': 'p6_e'\n",
    "}, inplace=True)"
   ]
  },
  {
   "cell_type": "code",
   "execution_count": null,
   "metadata": {},
   "outputs": [],
   "source": [
    "df_fijo"
   ]
  },
  {
   "cell_type": "code",
   "execution_count": null,
   "metadata": {},
   "outputs": [],
   "source": [
    "df_fijo.info()"
   ]
  },
  {
   "cell_type": "code",
   "execution_count": null,
   "metadata": {},
   "outputs": [],
   "source": [
    "df_fijo = df_fijo.dropna()\n"
   ]
  },
  {
   "cell_type": "code",
   "execution_count": null,
   "metadata": {},
   "outputs": [],
   "source": [
    "df_fijo['p1_e'].value_counts()"
   ]
  },
  {
   "cell_type": "code",
   "execution_count": null,
   "metadata": {},
   "outputs": [],
   "source": [
    "df_fijo['fee'] = 0"
   ]
  },
  {
   "cell_type": "code",
   "execution_count": null,
   "metadata": {},
   "outputs": [],
   "source": [
    "df_fijo['fee'].value_counts()"
   ]
  },
  {
   "cell_type": "code",
   "execution_count": null,
   "metadata": {},
   "outputs": [],
   "source": [
    "df_fijo['fee'] = df_fijo['fee'].str.replace('-', '')"
   ]
  },
  {
   "cell_type": "code",
   "execution_count": null,
   "metadata": {},
   "outputs": [],
   "source": [
    "columnas_a_convertir = ['p1_e', 'p2_e', 'p3_e', 'p4_e', 'p5_e', 'p6_e']\n",
    "\n",
    "for columna in columnas_a_convertir:\n",
    "    df_fijo[columna] = pd.to_numeric(df_fijo[columna], errors='coerce')"
   ]
  },
  {
   "cell_type": "code",
   "execution_count": null,
   "metadata": {},
   "outputs": [],
   "source": [
    "# df_index_e.to_sql('energia', con=engine, if_exists='append', index=False)\n",
    "# df_index_p.to_sql('potencia', con=engine, if_exists='append', index=False)\n",
    "df_fijo.to_sql('fijo', con=engine, if_exists='append', index=False) "
   ]
  }
 ],
 "metadata": {
  "kernelspec": {
   "display_name": "Python 3",
   "language": "python",
   "name": "python3"
  },
  "language_info": {
   "codemirror_mode": {
    "name": "ipython",
    "version": 3
   },
   "file_extension": ".py",
   "mimetype": "text/x-python",
   "name": "python",
   "nbconvert_exporter": "python",
   "pygments_lexer": "ipython3",
   "version": "3.11.4"
  }
 },
 "nbformat": 4,
 "nbformat_minor": 2
}
